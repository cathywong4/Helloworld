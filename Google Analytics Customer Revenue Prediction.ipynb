{
 "cells": [
  {
   "cell_type": "markdown",
   "metadata": {},
   "source": [
    "# Google Analytics Customer Revenue Prediction by XGboost"
   ]
  },
  {
   "cell_type": "markdown",
   "metadata": {},
   "source": [
    "We are under a digital world and the popularity of mobile device faster the transformation process, as a result, our digital footprints have been recorded. All these information help company, especially e-commence to understand more on customer behaviour, no matter implicit(click, duration of view) or explicit(rating, comment, purchase). Thus, marketing teams can formulate customized and targetted marketing.\n",
    "\n",
    "Objective: analyze Google Merchandise Store (GStore) customer dataset to predict revenue per customer so that marketing teams can make appropriate investments in promotional strategies.\n",
    "\n",
    "Dataset is provided from kaggle\n",
    "Source: https://www.kaggle.com/c/ga-customer-revenue-prediction"
   ]
  },
  {
   "cell_type": "markdown",
   "metadata": {},
   "source": [
    "# Data wrangling"
   ]
  },
  {
   "cell_type": "markdown",
   "metadata": {},
   "source": [
    "Thank to julian3833, below codes help loading the data and flattening the json fields."
   ]
  },
  {
   "cell_type": "code",
   "execution_count": 1,
   "metadata": {},
   "outputs": [],
   "source": [
    "import os\n",
    "import json\n",
    "import numpy as np\n",
    "import pandas as pd\n",
    "from pandas.io.json import json_normalize\n",
    "\n",
    "def load_df(csv_path='train_v2.csv', nrows=None):\n",
    "    JSON_COLUMNS = ['device', 'geoNetwork', 'totals', 'trafficSource']\n",
    "    \n",
    "    df = pd.read_csv(csv_path, \n",
    "                     converters={column: json.loads for column in JSON_COLUMNS}, \n",
    "                     dtype={'fullVisitorId': 'str'}, # Important!!\n",
    "                     nrows=nrows)\n",
    "    \n",
    "    for column in JSON_COLUMNS:\n",
    "        column_as_df = json_normalize(df[column])\n",
    "        column_as_df.columns = [f\"{column}.{subcolumn}\" for subcolumn in column_as_df.columns]\n",
    "        df = df.drop(column, axis=1).merge(column_as_df, right_index=True, left_index=True)\n",
    "    print(f\"Loaded {os.path.basename(csv_path)}. Shape: {df.shape}\")\n",
    "    return df"
   ]
  },
  {
   "cell_type": "code",
   "execution_count": 2,
   "metadata": {},
   "outputs": [
    {
     "name": "stderr",
     "output_type": "stream",
     "text": [
      "<ipython-input-1-03e75a01acca>:16: FutureWarning: pandas.io.json.json_normalize is deprecated, use pandas.json_normalize instead\n",
      "  column_as_df = json_normalize(df[column])\n"
     ]
    },
    {
     "name": "stdout",
     "output_type": "stream",
     "text": [
      "Loaded train_v2.csv. Shape: (1708337, 60)\n"
     ]
    }
   ],
   "source": [
    "train = load_df()"
   ]
  },
  {
   "cell_type": "code",
   "execution_count": 331,
   "metadata": {},
   "outputs": [
    {
     "ename": "TypeError",
     "evalue": "load_df() got an unexpected keyword argument 'dtype'",
     "output_type": "error",
     "traceback": [
      "\u001b[0;31m---------------------------------------------------------------------------\u001b[0m",
      "\u001b[0;31mTypeError\u001b[0m                                 Traceback (most recent call last)",
      "\u001b[0;32m<ipython-input-331-4b150bbf5aa3>\u001b[0m in \u001b[0;36m<module>\u001b[0;34m\u001b[0m\n\u001b[0;32m----> 1\u001b[0;31m \u001b[0mtest\u001b[0m \u001b[0;34m=\u001b[0m \u001b[0mload_df\u001b[0m\u001b[0;34m(\u001b[0m\u001b[0mcsv_path\u001b[0m\u001b[0;34m=\u001b[0m\u001b[0;34m'test_v2.csv'\u001b[0m\u001b[0;34m,\u001b[0m \u001b[0mdtype\u001b[0m\u001b[0;34m=\u001b[0m\u001b[0;34m{\u001b[0m\u001b[0;34m'fullVisitorId'\u001b[0m\u001b[0;34m:\u001b[0m \u001b[0mnp\u001b[0m\u001b[0;34m.\u001b[0m\u001b[0mstr\u001b[0m\u001b[0;34m}\u001b[0m\u001b[0;34m)\u001b[0m\u001b[0;34m\u001b[0m\u001b[0;34m\u001b[0m\u001b[0m\n\u001b[0m",
      "\u001b[0;31mTypeError\u001b[0m: load_df() got an unexpected keyword argument 'dtype'"
     ]
    }
   ],
   "source": [
    "test = load_df(csv_path='test_v2.csv')"
   ]
  },
  {
   "cell_type": "code",
   "execution_count": 13,
   "metadata": {},
   "outputs": [],
   "source": [
    "train['totals.transactionRevenue'] = pd.to_numeric(train['totals.transactionRevenue'], errors='ignore')"
   ]
  },
  {
   "cell_type": "code",
   "execution_count": 89,
   "metadata": {},
   "outputs": [
    {
     "data": {
      "text/html": [
       "<div>\n",
       "<style scoped>\n",
       "    .dataframe tbody tr th:only-of-type {\n",
       "        vertical-align: middle;\n",
       "    }\n",
       "\n",
       "    .dataframe tbody tr th {\n",
       "        vertical-align: top;\n",
       "    }\n",
       "\n",
       "    .dataframe thead th {\n",
       "        text-align: right;\n",
       "    }\n",
       "</style>\n",
       "<table border=\"1\" class=\"dataframe\">\n",
       "  <thead>\n",
       "    <tr style=\"text-align: right;\">\n",
       "      <th></th>\n",
       "      <th>0</th>\n",
       "    </tr>\n",
       "  </thead>\n",
       "  <tbody>\n",
       "    <tr>\n",
       "      <th>channelGrouping</th>\n",
       "      <td>Organic Search</td>\n",
       "    </tr>\n",
       "    <tr>\n",
       "      <th>customDimensions</th>\n",
       "      <td>[{'index': '4', 'value': 'EMEA'}]</td>\n",
       "    </tr>\n",
       "    <tr>\n",
       "      <th>date</th>\n",
       "      <td>20171016</td>\n",
       "    </tr>\n",
       "    <tr>\n",
       "      <th>fullVisitorId</th>\n",
       "      <td>3162355547410993243</td>\n",
       "    </tr>\n",
       "    <tr>\n",
       "      <th>hits</th>\n",
       "      <td>[{'hitNumber': '1', 'time': '0', 'hour': '17',...</td>\n",
       "    </tr>\n",
       "    <tr>\n",
       "      <th>visitId</th>\n",
       "      <td>1508198450</td>\n",
       "    </tr>\n",
       "    <tr>\n",
       "      <th>visitNumber</th>\n",
       "      <td>1</td>\n",
       "    </tr>\n",
       "    <tr>\n",
       "      <th>visitStartTime</th>\n",
       "      <td>1508198450</td>\n",
       "    </tr>\n",
       "    <tr>\n",
       "      <th>device.browser</th>\n",
       "      <td>Firefox</td>\n",
       "    </tr>\n",
       "    <tr>\n",
       "      <th>device.operatingSystem</th>\n",
       "      <td>Windows</td>\n",
       "    </tr>\n",
       "    <tr>\n",
       "      <th>device.isMobile</th>\n",
       "      <td>False</td>\n",
       "    </tr>\n",
       "    <tr>\n",
       "      <th>device.deviceCategory</th>\n",
       "      <td>desktop</td>\n",
       "    </tr>\n",
       "    <tr>\n",
       "      <th>geoNetwork.continent</th>\n",
       "      <td>Europe</td>\n",
       "    </tr>\n",
       "    <tr>\n",
       "      <th>geoNetwork.subContinent</th>\n",
       "      <td>Western Europe</td>\n",
       "    </tr>\n",
       "    <tr>\n",
       "      <th>geoNetwork.country</th>\n",
       "      <td>Germany</td>\n",
       "    </tr>\n",
       "    <tr>\n",
       "      <th>geoNetwork.region</th>\n",
       "      <td>not available in demo dataset</td>\n",
       "    </tr>\n",
       "    <tr>\n",
       "      <th>geoNetwork.metro</th>\n",
       "      <td>not available in demo dataset</td>\n",
       "    </tr>\n",
       "    <tr>\n",
       "      <th>geoNetwork.city</th>\n",
       "      <td>not available in demo dataset</td>\n",
       "    </tr>\n",
       "    <tr>\n",
       "      <th>geoNetwork.networkDomain</th>\n",
       "      <td>(not set)</td>\n",
       "    </tr>\n",
       "    <tr>\n",
       "      <th>totals.hits</th>\n",
       "      <td>1</td>\n",
       "    </tr>\n",
       "    <tr>\n",
       "      <th>totals.pageviews</th>\n",
       "      <td>1</td>\n",
       "    </tr>\n",
       "    <tr>\n",
       "      <th>totals.bounces</th>\n",
       "      <td>1</td>\n",
       "    </tr>\n",
       "    <tr>\n",
       "      <th>totals.newVisits</th>\n",
       "      <td>1</td>\n",
       "    </tr>\n",
       "    <tr>\n",
       "      <th>totals.sessionQualityDim</th>\n",
       "      <td>1</td>\n",
       "    </tr>\n",
       "    <tr>\n",
       "      <th>totals.timeOnSite</th>\n",
       "      <td>NaN</td>\n",
       "    </tr>\n",
       "    <tr>\n",
       "      <th>totals.transactions</th>\n",
       "      <td>NaN</td>\n",
       "    </tr>\n",
       "    <tr>\n",
       "      <th>totals.transactionRevenue</th>\n",
       "      <td>NaN</td>\n",
       "    </tr>\n",
       "    <tr>\n",
       "      <th>totals.totalTransactionRevenue</th>\n",
       "      <td>NaN</td>\n",
       "    </tr>\n",
       "    <tr>\n",
       "      <th>trafficSource.campaign</th>\n",
       "      <td>(not set)</td>\n",
       "    </tr>\n",
       "    <tr>\n",
       "      <th>trafficSource.source</th>\n",
       "      <td>google</td>\n",
       "    </tr>\n",
       "    <tr>\n",
       "      <th>trafficSource.medium</th>\n",
       "      <td>organic</td>\n",
       "    </tr>\n",
       "    <tr>\n",
       "      <th>trafficSource.keyword</th>\n",
       "      <td>water bottle</td>\n",
       "    </tr>\n",
       "    <tr>\n",
       "      <th>trafficSource.referralPath</th>\n",
       "      <td>NaN</td>\n",
       "    </tr>\n",
       "    <tr>\n",
       "      <th>trafficSource.isTrueDirect</th>\n",
       "      <td>NaN</td>\n",
       "    </tr>\n",
       "    <tr>\n",
       "      <th>trafficSource.adContent</th>\n",
       "      <td>NaN</td>\n",
       "    </tr>\n",
       "    <tr>\n",
       "      <th>trafficSource.adwordsClickInfo.page</th>\n",
       "      <td>NaN</td>\n",
       "    </tr>\n",
       "    <tr>\n",
       "      <th>trafficSource.adwordsClickInfo.slot</th>\n",
       "      <td>NaN</td>\n",
       "    </tr>\n",
       "    <tr>\n",
       "      <th>trafficSource.adwordsClickInfo.gclId</th>\n",
       "      <td>NaN</td>\n",
       "    </tr>\n",
       "    <tr>\n",
       "      <th>trafficSource.adwordsClickInfo.adNetworkType</th>\n",
       "      <td>NaN</td>\n",
       "    </tr>\n",
       "    <tr>\n",
       "      <th>trafficSource.adwordsClickInfo.isVideoAd</th>\n",
       "      <td>NaN</td>\n",
       "    </tr>\n",
       "    <tr>\n",
       "      <th>trafficSource.campaignCode</th>\n",
       "      <td>NaN</td>\n",
       "    </tr>\n",
       "  </tbody>\n",
       "</table>\n",
       "</div>"
      ],
      "text/plain": [
       "                                                                                              0\n",
       "channelGrouping                                                                  Organic Search\n",
       "customDimensions                                              [{'index': '4', 'value': 'EMEA'}]\n",
       "date                                                                                   20171016\n",
       "fullVisitorId                                                               3162355547410993243\n",
       "hits                                          [{'hitNumber': '1', 'time': '0', 'hour': '17',...\n",
       "visitId                                                                              1508198450\n",
       "visitNumber                                                                                   1\n",
       "visitStartTime                                                                       1508198450\n",
       "device.browser                                                                          Firefox\n",
       "device.operatingSystem                                                                  Windows\n",
       "device.isMobile                                                                           False\n",
       "device.deviceCategory                                                                   desktop\n",
       "geoNetwork.continent                                                                     Europe\n",
       "geoNetwork.subContinent                                                          Western Europe\n",
       "geoNetwork.country                                                                      Germany\n",
       "geoNetwork.region                                                 not available in demo dataset\n",
       "geoNetwork.metro                                                  not available in demo dataset\n",
       "geoNetwork.city                                                   not available in demo dataset\n",
       "geoNetwork.networkDomain                                                              (not set)\n",
       "totals.hits                                                                                   1\n",
       "totals.pageviews                                                                              1\n",
       "totals.bounces                                                                                1\n",
       "totals.newVisits                                                                              1\n",
       "totals.sessionQualityDim                                                                      1\n",
       "totals.timeOnSite                                                                           NaN\n",
       "totals.transactions                                                                         NaN\n",
       "totals.transactionRevenue                                                                   NaN\n",
       "totals.totalTransactionRevenue                                                              NaN\n",
       "trafficSource.campaign                                                                (not set)\n",
       "trafficSource.source                                                                     google\n",
       "trafficSource.medium                                                                    organic\n",
       "trafficSource.keyword                                                              water bottle\n",
       "trafficSource.referralPath                                                                  NaN\n",
       "trafficSource.isTrueDirect                                                                  NaN\n",
       "trafficSource.adContent                                                                     NaN\n",
       "trafficSource.adwordsClickInfo.page                                                         NaN\n",
       "trafficSource.adwordsClickInfo.slot                                                         NaN\n",
       "trafficSource.adwordsClickInfo.gclId                                                        NaN\n",
       "trafficSource.adwordsClickInfo.adNetworkType                                                NaN\n",
       "trafficSource.adwordsClickInfo.isVideoAd                                                    NaN\n",
       "trafficSource.campaignCode                                                                  NaN"
      ]
     },
     "execution_count": 89,
     "metadata": {},
     "output_type": "execute_result"
    }
   ],
   "source": [
    "train.head(1).T"
   ]
  },
  {
   "cell_type": "markdown",
   "metadata": {},
   "source": [
    "# EDA"
   ]
  },
  {
   "cell_type": "code",
   "execution_count": 13,
   "metadata": {},
   "outputs": [
    {
     "name": "stdout",
     "output_type": "stream",
     "text": [
      "Collecting seaborn\n",
      "  Downloading seaborn-0.11.1-py3-none-any.whl (285 kB)\n",
      "\u001b[K     |████████████████████████████████| 285 kB 9.3 MB/s eta 0:00:01\n",
      "\u001b[?25hRequirement already satisfied: matplotlib>=2.2 in /opt/anaconda3/envs/mnist/lib/python3.7/site-packages (from seaborn) (3.3.2)\n",
      "Requirement already satisfied: numpy>=1.15 in /opt/anaconda3/envs/mnist/lib/python3.7/site-packages (from seaborn) (1.19.1)\n",
      "Requirement already satisfied: scipy>=1.0 in /opt/anaconda3/envs/mnist/lib/python3.7/site-packages (from seaborn) (1.5.2)\n",
      "Requirement already satisfied: pandas>=0.23 in /opt/anaconda3/envs/mnist/lib/python3.7/site-packages (from seaborn) (1.2.1)\n",
      "Requirement already satisfied: certifi>=2020.06.20 in /opt/anaconda3/envs/mnist/lib/python3.7/site-packages (from matplotlib>=2.2->seaborn) (2020.12.5)\n",
      "Requirement already satisfied: python-dateutil>=2.1 in /opt/anaconda3/envs/mnist/lib/python3.7/site-packages (from matplotlib>=2.2->seaborn) (2.8.1)\n",
      "Requirement already satisfied: kiwisolver>=1.0.1 in /opt/anaconda3/envs/mnist/lib/python3.7/site-packages (from matplotlib>=2.2->seaborn) (1.3.1)\n",
      "Requirement already satisfied: pyparsing!=2.0.4,!=2.1.2,!=2.1.6,>=2.0.3 in /opt/anaconda3/envs/mnist/lib/python3.7/site-packages (from matplotlib>=2.2->seaborn) (2.4.7)\n",
      "Requirement already satisfied: pillow>=6.2.0 in /opt/anaconda3/envs/mnist/lib/python3.7/site-packages (from matplotlib>=2.2->seaborn) (8.1.0)\n",
      "Requirement already satisfied: cycler>=0.10 in /opt/anaconda3/envs/mnist/lib/python3.7/site-packages (from matplotlib>=2.2->seaborn) (0.10.0)\n",
      "Requirement already satisfied: six in /opt/anaconda3/envs/mnist/lib/python3.7/site-packages (from cycler>=0.10->matplotlib>=2.2->seaborn) (1.15.0)\n",
      "Requirement already satisfied: pytz>=2017.3 in /opt/anaconda3/envs/mnist/lib/python3.7/site-packages (from pandas>=0.23->seaborn) (2021.1)\n",
      "Installing collected packages: seaborn\n",
      "Successfully installed seaborn-0.11.1\n",
      "Note: you may need to restart the kernel to use updated packages.\n"
     ]
    }
   ],
   "source": [
    "pip install seaborn"
   ]
  },
  {
   "cell_type": "code",
   "execution_count": 94,
   "metadata": {},
   "outputs": [],
   "source": [
    "import seaborn as sns"
   ]
  },
  {
   "cell_type": "code",
   "execution_count": 118,
   "metadata": {},
   "outputs": [],
   "source": [
    "import matplotlib.pyplot as plt"
   ]
  },
  {
   "cell_type": "markdown",
   "metadata": {},
   "source": [
    "First, let's find out the proportion of having online purchase in Google Merchandise Store (GStore). The below figure shows that most visiters of Gstore are just \"window-shopping\", and the exact conversion rate is just 1.08%."
   ]
  },
  {
   "cell_type": "code",
   "execution_count": 79,
   "metadata": {},
   "outputs": [
    {
     "data": {
      "text/plain": [
       "<AxesSubplot:xlabel='totals.transactionRevenue', ylabel='Count'>"
      ]
     },
     "execution_count": 79,
     "metadata": {},
     "output_type": "execute_result"
    },
    {
     "data": {
      "image/png": "[encoded data removed]",
      "text/plain": [
       "<Figure size 432x288 with 1 Axes>"
      ]
     },
     "metadata": {
      "needs_background": "light"
     },
     "output_type": "display_data"
    }
   ],
   "source": [
    "sns.histplot(data=train['totals.transactionRevenue'])"
   ]
  },
  {
   "cell_type": "code",
   "execution_count": 78,
   "metadata": {},
   "outputs": [
    {
     "name": "stdout",
     "output_type": "stream",
     "text": [
      "Conversion rate is 1.08%\n"
     ]
    }
   ],
   "source": [
    "conversion = train['totals.transactionRevenue'].loc[train['totals.transactionRevenue']>0].count()/train['fullVisitorId'].count()\n",
    "print(\"Conversion rate is {}%\".format(round(conversion*100,2)))"
   ]
  },
  {
   "cell_type": "markdown",
   "metadata": {},
   "source": [
    "As shown below, there are many columns in the dataset. Some features may only contain uniform values that cannot help predicting the revenue, but increase the computing time instead.\n",
    "\n",
    "Trim down those columns by finding whether that column only contain one kind of value."
   ]
  },
  {
   "cell_type": "code",
   "execution_count": 4,
   "metadata": {},
   "outputs": [
    {
     "data": {
      "text/plain": [
       "channelGrouping                                      object\n",
       "customDimensions                                     object\n",
       "date                                                  int64\n",
       "fullVisitorId                                        object\n",
       "hits                                                 object\n",
       "socialEngagementType                                 object\n",
       "visitId                                               int64\n",
       "visitNumber                                           int64\n",
       "visitStartTime                                        int64\n",
       "device.browser                                       object\n",
       "device.browserVersion                                object\n",
       "device.browserSize                                   object\n",
       "device.operatingSystem                               object\n",
       "device.operatingSystemVersion                        object\n",
       "device.isMobile                                        bool\n",
       "device.mobileDeviceBranding                          object\n",
       "device.mobileDeviceModel                             object\n",
       "device.mobileInputSelector                           object\n",
       "device.mobileDeviceInfo                              object\n",
       "device.mobileDeviceMarketingName                     object\n",
       "device.flashVersion                                  object\n",
       "device.language                                      object\n",
       "device.screenColors                                  object\n",
       "device.screenResolution                              object\n",
       "device.deviceCategory                                object\n",
       "geoNetwork.continent                                 object\n",
       "geoNetwork.subContinent                              object\n",
       "geoNetwork.country                                   object\n",
       "geoNetwork.region                                    object\n",
       "geoNetwork.metro                                     object\n",
       "geoNetwork.city                                      object\n",
       "geoNetwork.cityId                                    object\n",
       "geoNetwork.networkDomain                             object\n",
       "geoNetwork.latitude                                  object\n",
       "geoNetwork.longitude                                 object\n",
       "geoNetwork.networkLocation                           object\n",
       "totals.visits                                        object\n",
       "totals.hits                                          object\n",
       "totals.pageviews                                     object\n",
       "totals.bounces                                       object\n",
       "totals.newVisits                                     object\n",
       "totals.sessionQualityDim                             object\n",
       "totals.timeOnSite                                    object\n",
       "totals.transactions                                  object\n",
       "totals.transactionRevenue                            object\n",
       "totals.totalTransactionRevenue                       object\n",
       "trafficSource.campaign                               object\n",
       "trafficSource.source                                 object\n",
       "trafficSource.medium                                 object\n",
       "trafficSource.keyword                                object\n",
       "trafficSource.adwordsClickInfo.criteriaParameters    object\n",
       "trafficSource.referralPath                           object\n",
       "trafficSource.isTrueDirect                           object\n",
       "trafficSource.adContent                              object\n",
       "trafficSource.adwordsClickInfo.page                  object\n",
       "trafficSource.adwordsClickInfo.slot                  object\n",
       "trafficSource.adwordsClickInfo.gclId                 object\n",
       "trafficSource.adwordsClickInfo.adNetworkType         object\n",
       "trafficSource.adwordsClickInfo.isVideoAd             object\n",
       "trafficSource.campaignCode                           object\n",
       "dtype: object"
      ]
     },
     "execution_count": 4,
     "metadata": {},
     "output_type": "execute_result"
    }
   ],
   "source": [
    "train.dtypes"
   ]
  },
  {
   "cell_type": "code",
   "execution_count": 81,
   "metadata": {},
   "outputs": [
    {
     "name": "stdout",
     "output_type": "stream",
     "text": [
      "socialEngagementType\n",
      "device.browserVersion\n",
      "device.browserSize\n",
      "device.operatingSystemVersion\n",
      "device.mobileDeviceBranding\n",
      "device.mobileDeviceModel\n",
      "device.mobileInputSelector\n",
      "device.mobileDeviceInfo\n",
      "device.mobileDeviceMarketingName\n",
      "device.flashVersion\n",
      "device.language\n",
      "device.screenColors\n",
      "device.screenResolution\n",
      "geoNetwork.cityId\n",
      "geoNetwork.latitude\n",
      "geoNetwork.longitude\n",
      "geoNetwork.networkLocation\n",
      "totals.visits\n",
      "trafficSource.adwordsClickInfo.criteriaParameters\n"
     ]
    }
   ],
   "source": [
    "for column in train.columns:\n",
    "    if train[column].nunique(dropna=False)==1:\n",
    "        print(column)"
   ]
  },
  {
   "cell_type": "code",
   "execution_count": 5,
   "metadata": {},
   "outputs": [],
   "source": [
    "train = train.drop(columns=['socialEngagementType',\n",
    "                            'device.browserVersion',\n",
    "                            'device.browserSize',\n",
    "                            'device.operatingSystemVersion',\n",
    "                            'device.mobileDeviceBranding',\n",
    "                            'device.mobileDeviceModel',\n",
    "                            'device.mobileInputSelector',\n",
    "                            'device.mobileDeviceInfo',\n",
    "                            'device.mobileDeviceMarketingName',\n",
    "                            'device.flashVersion',\n",
    "                            'device.language',\n",
    "                            'device.screenColors',\n",
    "                            'device.screenResolution',\n",
    "                            'geoNetwork.cityId',\n",
    "                            'geoNetwork.latitude',\n",
    "                            'geoNetwork.longitude',\n",
    "                            'geoNetwork.networkLocation',\n",
    "                            'totals.visits',\n",
    "                            'trafficSource.adwordsClickInfo.criteriaParameters'])"
   ]
  },
  {
   "cell_type": "code",
   "execution_count": 238,
   "metadata": {},
   "outputs": [],
   "source": [
    "train = train.drop(columns=['trafficSource.campaignCode'])"
   ]
  },
  {
   "cell_type": "code",
   "execution_count": 242,
   "metadata": {},
   "outputs": [],
   "source": [
    "train = train.drop(columns=['visitId'])"
   ]
  },
  {
   "cell_type": "markdown",
   "metadata": {},
   "source": [
    "# 1. Device"
   ]
  },
  {
   "cell_type": "markdown",
   "metadata": {},
   "source": [
    "The sequence is ordered by the no of users of that category (browser/operating system/device catrgoty)\n",
    "Then, the no of non-zero-revenue users is divided by the total no to get 'ratio'.\n",
    "'mean' & 'std' represent the mean and standard deviation of revenue respectively.\n",
    "\n",
    "#device.browser\n",
    "Chrome share the largest proportion of either total no of users or non-zero-revenue users\n",
    "Although the mean revenue of Firefox users is the highest, meanwhile its std is also the highest, meaning that the expenditure of Firefox users is divergent\n",
    "\n",
    "#device operating system\n",
    "Similar to device.browser, Chrome OS also have the most non-zero-revenue users.\n",
    "Although non-zero-revenue users of window is far less than that of Chrome OS, their mean revenue are similar, revealing that some window users expend much on GStore, evidenced by high std.\n",
    "\n",
    "#device category\n",
    "desktop has much more non-zero revenue counts compared to mobile devices in around 7-fold.\n",
    "However, mean revenue generated by desktop is only 2 times the revenue generated by mobile, noted that std of desktop is very high.\n",
    "\n",
    "As for mobile OS side, iOS has more non-zero revenue counts compared to Android."
   ]
  },
  {
   "cell_type": "code",
   "execution_count": 96,
   "metadata": {},
   "outputs": [
    {
     "name": "stdout",
     "output_type": "stream",
     "text": [
      "Collecting plotly\n",
      "  Downloading plotly-4.14.3-py2.py3-none-any.whl (13.2 MB)\n",
      "\u001b[K     |████████████████████████████████| 13.2 MB 7.1 MB/s eta 0:00:01\n",
      "\u001b[?25hRequirement already satisfied: six in /opt/anaconda3/lib/python3.8/site-packages (from plotly) (1.15.0)\n",
      "Collecting retrying>=1.3.3\n",
      "  Downloading retrying-1.3.3.tar.gz (10 kB)\n",
      "Building wheels for collected packages: retrying\n",
      "  Building wheel for retrying (setup.py) ... \u001b[?25ldone\n",
      "\u001b[?25h  Created wheel for retrying: filename=retrying-1.3.3-py3-none-any.whl size=11430 sha256=550b7f9d8f7412425d34b4f3aa399fd5a1cf578d195c27241ebe17017390aa45\n",
      "  Stored in directory: /Users/cathy/Library/Caches/pip/wheels/c4/a7/48/0a434133f6d56e878ca511c0e6c38326907c0792f67b476e56\n",
      "Successfully built retrying\n",
      "Installing collected packages: retrying, plotly\n",
      "Successfully installed plotly-4.14.3 retrying-1.3.3\n",
      "Note: you may need to restart the kernel to use updated packages.\n"
     ]
    }
   ],
   "source": [
    "pip install plotly"
   ]
  },
  {
   "cell_type": "code",
   "execution_count": 114,
   "metadata": {},
   "outputs": [],
   "source": [
    "from plotly import tools"
   ]
  },
  {
   "cell_type": "code",
   "execution_count": 130,
   "metadata": {},
   "outputs": [
    {
     "data": {
      "image/png": "[encoded data removed]",
      "text/plain": [
       "<Figure size 432x288 with 1 Axes>"
      ]
     },
     "metadata": {
      "needs_background": "light"
     },
     "output_type": "display_data"
    },
    {
     "data": {
      "image/png": "[encoded data removed]",
      "text/plain": [
       "<Figure size 432x288 with 1 Axes>"
      ]
     },
     "metadata": {
      "needs_background": "light"
     },
     "output_type": "display_data"
    },
    {
     "data": {
      "image/png": "[encoded data removed]",
      "text/plain": [
       "<Figure size 432x288 with 1 Axes>"
      ]
     },
     "metadata": {
      "needs_background": "light"
     },
     "output_type": "display_data"
    },
    {
     "data": {
      "image/png": "[encoded data removed]",
      "text/plain": [
       "<Figure size 432x288 with 1 Axes>"
      ]
     },
     "metadata": {
      "needs_background": "light"
     },
     "output_type": "display_data"
    },
    {
     "data": {
      "image/png": "[encoded data removed]",
      "text/plain": [
       "<Figure size 432x288 with 1 Axes>"
      ]
     },
     "metadata": {
      "needs_background": "light"
     },
     "output_type": "display_data"
    },
    {
     "data": {
      "image/png": "[encoded data removed]",
      "text/plain": [
       "<Figure size 432x288 with 1 Axes>"
      ]
     },
     "metadata": {
      "needs_background": "light"
     },
     "output_type": "display_data"
    }
   ],
   "source": [
    "#device.browser\n",
    "table1 = train.groupby('device.browser')['totals.transactionRevenue'].agg(['size','count','mean','std']).sort_values(by='size',ascending=False).head(10)\n",
    "table1['ratio'] = round((table1['count']/table1['size'])*100,2)\n",
    "fig1 = table1[['ratio']].plot.barh().invert_yaxis()\n",
    "fig2 = table1[['mean','std']].plot.barh().invert_yaxis()\n",
    "\n",
    "#device.operatingSystem\n",
    "table2 = train.groupby('device.operatingSystem')['totals.transactionRevenue'].agg(['size','count','mean','std']).sort_values(by='size',ascending=False).head(10)\n",
    "table2['ratio'] = round((table2['count']/table2['size'])*100,2)\n",
    "fig3 = table2[['ratio']].plot.barh().invert_yaxis()\n",
    "fig4 = table2[['mean','std']].plot.barh().invert_yaxis()\n",
    "\n",
    "#device.deviceCategory\n",
    "table3 = train.groupby('device.deviceCategory')['totals.transactionRevenue'].agg(['size','count','mean','std']).sort_values(by='size',ascending=False).head(10)\n",
    "table3['ratio'] = round((table3['count']/table3['size'])*100,2)\n",
    "fig5 = table3[['ratio']].plot.barh().invert_yaxis()\n",
    "fig6 = table3[['mean','std']].plot.barh().invert_yaxis()\n"
   ]
  },
  {
   "cell_type": "markdown",
   "metadata": {},
   "source": [
    "# 2. Time"
   ]
  },
  {
   "cell_type": "markdown",
   "metadata": {},
   "source": [
    "- Total revenue by month\n",
    "\n",
    "August has the highest revenue, followed by April\n",
    "\n",
    "- Mean,std of revenue & count of non-zero revenue user by month\n",
    "\n",
    "Although the total revenue of either August and April surpass others obviously, the mean revenue of each monther is similar, even the mean revenue of April is slightly higher than August.\n",
    "\n",
    "The reasons why the overall revenue of August is larger than April is that August has far more customers, even though each of them only purchase little.\n",
    "\n",
    "- Revenue distribution by weekday and visit hour\n",
    "(Note: pandas.Series.dt.weekday denote Monday and Sunday by 0 and 6 respectively)\n",
    "Almost all revenue are created in weekdays, instead of weekends, and most transactions take place from 11pm to 4am.\n",
    "\n",
    "Considering these 2 parameters: weekday and hour, the golden combination is at 4am on Wednesday."
   ]
  },
  {
   "cell_type": "code",
   "execution_count": 8,
   "metadata": {},
   "outputs": [],
   "source": [
    "from datetime import datetime"
   ]
  },
  {
   "cell_type": "code",
   "execution_count": 90,
   "metadata": {},
   "outputs": [],
   "source": [
    "train['date'] = pd.to_datetime(train['date'], format='%Y%m%d')"
   ]
  },
  {
   "cell_type": "code",
   "execution_count": 93,
   "metadata": {},
   "outputs": [],
   "source": [
    "#extracting weekday, day, month, year, visit hour respectively\n",
    "train[\"weekday\"] = train['date'].dt.weekday\n",
    "train[\"day\"] = train['date'].dt.day \n",
    "train[\"month\"] = train['date'].dt.month \n",
    "train[\"year\"] = train['date'].dt.year \n",
    "train[\"visitHour\"] = (train['visitStartTime'].apply(lambda x: str(datetime.fromtimestamp(x).hour))).astype(int)"
   ]
  },
  {
   "cell_type": "code",
   "execution_count": 152,
   "metadata": {},
   "outputs": [],
   "source": [
    "date = train.groupby(by=['month'])['totals.transactionRevenue'].agg(['count','sum','mean','std'])"
   ]
  },
  {
   "cell_type": "code",
   "execution_count": 153,
   "metadata": {},
   "outputs": [
    {
     "data": {
      "text/html": [
       "<div>\n",
       "<style scoped>\n",
       "    .dataframe tbody tr th:only-of-type {\n",
       "        vertical-align: middle;\n",
       "    }\n",
       "\n",
       "    .dataframe tbody tr th {\n",
       "        vertical-align: top;\n",
       "    }\n",
       "\n",
       "    .dataframe thead th {\n",
       "        text-align: right;\n",
       "    }\n",
       "</style>\n",
       "<table border=\"1\" class=\"dataframe\">\n",
       "  <thead>\n",
       "    <tr style=\"text-align: right;\">\n",
       "      <th></th>\n",
       "      <th>count</th>\n",
       "      <th>sum</th>\n",
       "      <th>mean</th>\n",
       "      <th>std</th>\n",
       "    </tr>\n",
       "    <tr>\n",
       "      <th>month</th>\n",
       "      <th></th>\n",
       "      <th></th>\n",
       "      <th></th>\n",
       "      <th></th>\n",
       "    </tr>\n",
       "  </thead>\n",
       "  <tbody>\n",
       "    <tr>\n",
       "      <th>1</th>\n",
       "      <td>1326</td>\n",
       "      <td>1.702149e+11</td>\n",
       "      <td>1.283672e+08</td>\n",
       "      <td>2.464413e+08</td>\n",
       "    </tr>\n",
       "    <tr>\n",
       "      <th>2</th>\n",
       "      <td>1278</td>\n",
       "      <td>1.737493e+11</td>\n",
       "      <td>1.359541e+08</td>\n",
       "      <td>5.453965e+08</td>\n",
       "    </tr>\n",
       "    <tr>\n",
       "      <th>3</th>\n",
       "      <td>1907</td>\n",
       "      <td>2.202794e+11</td>\n",
       "      <td>1.155110e+08</td>\n",
       "      <td>3.113943e+08</td>\n",
       "    </tr>\n",
       "    <tr>\n",
       "      <th>4</th>\n",
       "      <td>1567</td>\n",
       "      <td>2.382231e+11</td>\n",
       "      <td>1.520250e+08</td>\n",
       "      <td>7.149573e+08</td>\n",
       "    </tr>\n",
       "    <tr>\n",
       "      <th>5</th>\n",
       "      <td>1115</td>\n",
       "      <td>1.217115e+11</td>\n",
       "      <td>1.091583e+08</td>\n",
       "      <td>2.553799e+08</td>\n",
       "    </tr>\n",
       "    <tr>\n",
       "      <th>6</th>\n",
       "      <td>946</td>\n",
       "      <td>1.215695e+11</td>\n",
       "      <td>1.285090e+08</td>\n",
       "      <td>3.741667e+08</td>\n",
       "    </tr>\n",
       "    <tr>\n",
       "      <th>7</th>\n",
       "      <td>1031</td>\n",
       "      <td>1.244993e+11</td>\n",
       "      <td>1.207558e+08</td>\n",
       "      <td>4.093907e+08</td>\n",
       "    </tr>\n",
       "    <tr>\n",
       "      <th>8</th>\n",
       "      <td>2422</td>\n",
       "      <td>3.107836e+11</td>\n",
       "      <td>1.283169e+08</td>\n",
       "      <td>4.048730e+08</td>\n",
       "    </tr>\n",
       "    <tr>\n",
       "      <th>9</th>\n",
       "      <td>1626</td>\n",
       "      <td>2.294364e+11</td>\n",
       "      <td>1.411048e+08</td>\n",
       "      <td>5.945090e+08</td>\n",
       "    </tr>\n",
       "    <tr>\n",
       "      <th>10</th>\n",
       "      <td>1612</td>\n",
       "      <td>1.908739e+11</td>\n",
       "      <td>1.184081e+08</td>\n",
       "      <td>2.217515e+08</td>\n",
       "    </tr>\n",
       "    <tr>\n",
       "      <th>11</th>\n",
       "      <td>1510</td>\n",
       "      <td>1.843139e+11</td>\n",
       "      <td>1.220622e+08</td>\n",
       "      <td>2.528575e+08</td>\n",
       "    </tr>\n",
       "    <tr>\n",
       "      <th>12</th>\n",
       "      <td>2174</td>\n",
       "      <td>2.306903e+11</td>\n",
       "      <td>1.061133e+08</td>\n",
       "      <td>3.286211e+08</td>\n",
       "    </tr>\n",
       "  </tbody>\n",
       "</table>\n",
       "</div>"
      ],
      "text/plain": [
       "       count           sum          mean           std\n",
       "month                                                 \n",
       "1       1326  1.702149e+11  1.283672e+08  2.464413e+08\n",
       "2       1278  1.737493e+11  1.359541e+08  5.453965e+08\n",
       "3       1907  2.202794e+11  1.155110e+08  3.113943e+08\n",
       "4       1567  2.382231e+11  1.520250e+08  7.149573e+08\n",
       "5       1115  1.217115e+11  1.091583e+08  2.553799e+08\n",
       "6        946  1.215695e+11  1.285090e+08  3.741667e+08\n",
       "7       1031  1.244993e+11  1.207558e+08  4.093907e+08\n",
       "8       2422  3.107836e+11  1.283169e+08  4.048730e+08\n",
       "9       1626  2.294364e+11  1.411048e+08  5.945090e+08\n",
       "10      1612  1.908739e+11  1.184081e+08  2.217515e+08\n",
       "11      1510  1.843139e+11  1.220622e+08  2.528575e+08\n",
       "12      2174  2.306903e+11  1.061133e+08  3.286211e+08"
      ]
     },
     "execution_count": 153,
     "metadata": {},
     "output_type": "execute_result"
    }
   ],
   "source": [
    "date"
   ]
  },
  {
   "cell_type": "code",
   "execution_count": 162,
   "metadata": {},
   "outputs": [
    {
     "data": {
      "text/plain": [
       "[<matplotlib.lines.Line2D at 0x7fa3e5f00a00>]"
      ]
     },
     "execution_count": 162,
     "metadata": {},
     "output_type": "execute_result"
    }
   ],
   "source": [
    "ax.plot(date['sum'],label='Total revenue')"
   ]
  },
  {
   "cell_type": "code",
   "execution_count": 175,
   "metadata": {},
   "outputs": [
    {
     "data": {
      "image/png": "[encoded data removed]",
      "text/plain": [
       "<Figure size 432x288 with 1 Axes>"
      ]
     },
     "metadata": {
      "needs_background": "light"
     },
     "output_type": "display_data"
    }
   ],
   "source": [
    "plt.plot(date['sum'])\n",
    "plt.xlabel('Month')\n",
    "plt.ylabel('Amount ($)')\n",
    "plt.title('Total revenue by month')\n",
    "\n",
    "plt.show()"
   ]
  },
  {
   "cell_type": "code",
   "execution_count": 170,
   "metadata": {},
   "outputs": [
    {
     "data": {
      "text/plain": [
       "Text(0, 0.5, 'No of users')"
      ]
     },
     "execution_count": 170,
     "metadata": {},
     "output_type": "execute_result"
    },
    {
     "data": {
      "image/png": "[encoded data removed]",
      "text/plain": [
       "<Figure size 432x288 with 2 Axes>"
      ]
     },
     "metadata": {
      "needs_background": "light"
     },
     "output_type": "display_data"
    }
   ],
   "source": [
    "ax = date[['mean','std']].plot(kind=\"bar\", label=['mean','std'])\n",
    "ax2 = ax.twinx()\n",
    "ax2.plot(range(0, len(date['count'])), date['count'],label = 'no of users')\n",
    "ax2.set_ylabel(r\"No of users\")\n"
   ]
  },
  {
   "cell_type": "code",
   "execution_count": 111,
   "metadata": {
    "scrolled": true
   },
   "outputs": [],
   "source": [
    "weekday_hour = train.pivot_table(index='visitHour',columns='weekday',values='totals.transactionRevenue', aggfunc='sum')"
   ]
  },
  {
   "cell_type": "code",
   "execution_count": 119,
   "metadata": {},
   "outputs": [
    {
     "data": {
      "text/plain": [
       "Text(0.5, 1.0, 'Revenue distribution by weekday and visit hour')"
      ]
     },
     "execution_count": 119,
     "metadata": {},
     "output_type": "execute_result"
    },
    {
     "data": {
      "image/png": "[encoded data removed]",
      "text/plain": [
       "<Figure size 432x288 with 2 Axes>"
      ]
     },
     "metadata": {
      "needs_background": "light"
     },
     "output_type": "display_data"
    }
   ],
   "source": [
    "sns.heatmap(weekday_hour, cmap='Reds')\n",
    "plt.title('Revenue distribution by weekday and visit hour')"
   ]
  },
  {
   "cell_type": "markdown",
   "metadata": {},
   "source": [
    "# Country"
   ]
  },
  {
   "cell_type": "markdown",
   "metadata": {},
   "source": [
    "- by continent\n",
    "\n",
    "For the ratio of customers over all GStore visitors, Americas is the highest.\n",
    "Although Africa has less customers, some of them spend much on GStore, evidenced by highest mean revenue.\n",
    "\n",
    "- by country\n",
    "\n",
    "United States contribute the most revenue, approximately 4 time than that of runner-up, Canada"
   ]
  },
  {
   "cell_type": "code",
   "execution_count": 66,
   "metadata": {},
   "outputs": [],
   "source": [
    "country = train[['geoNetwork.country','totals.transactionRevenue']].dropna()"
   ]
  },
  {
   "cell_type": "code",
   "execution_count": 71,
   "metadata": {},
   "outputs": [],
   "source": [
    "country['totals.transactionRevenue']= country['totals.transactionRevenue'].astype(int)"
   ]
  },
  {
   "cell_type": "code",
   "execution_count": 73,
   "metadata": {},
   "outputs": [
    {
     "data": {
      "text/html": [
       "<div>\n",
       "<style scoped>\n",
       "    .dataframe tbody tr th:only-of-type {\n",
       "        vertical-align: middle;\n",
       "    }\n",
       "\n",
       "    .dataframe tbody tr th {\n",
       "        vertical-align: top;\n",
       "    }\n",
       "\n",
       "    .dataframe thead th {\n",
       "        text-align: right;\n",
       "    }\n",
       "</style>\n",
       "<table border=\"1\" class=\"dataframe\">\n",
       "  <thead>\n",
       "    <tr style=\"text-align: right;\">\n",
       "      <th></th>\n",
       "      <th>totals.transactionRevenue</th>\n",
       "    </tr>\n",
       "    <tr>\n",
       "      <th>geoNetwork.country</th>\n",
       "      <th></th>\n",
       "    </tr>\n",
       "  </thead>\n",
       "  <tbody>\n",
       "    <tr>\n",
       "      <th>United States</th>\n",
       "      <td>2197885190000</td>\n",
       "    </tr>\n",
       "    <tr>\n",
       "      <th>Canada</th>\n",
       "      <td>42699230000</td>\n",
       "    </tr>\n",
       "    <tr>\n",
       "      <th>Venezuela</th>\n",
       "      <td>13901260000</td>\n",
       "    </tr>\n",
       "    <tr>\n",
       "      <th>Japan</th>\n",
       "      <td>7361500000</td>\n",
       "    </tr>\n",
       "    <tr>\n",
       "      <th>Australia</th>\n",
       "      <td>6585640000</td>\n",
       "    </tr>\n",
       "    <tr>\n",
       "      <th>Kenya</th>\n",
       "      <td>5268700000</td>\n",
       "    </tr>\n",
       "    <tr>\n",
       "      <th>Mexico</th>\n",
       "      <td>3763080000</td>\n",
       "    </tr>\n",
       "    <tr>\n",
       "      <th>Nigeria</th>\n",
       "      <td>3302400000</td>\n",
       "    </tr>\n",
       "    <tr>\n",
       "      <th>Taiwan</th>\n",
       "      <td>2934200000</td>\n",
       "    </tr>\n",
       "    <tr>\n",
       "      <th>United Kingdom</th>\n",
       "      <td>2475040000</td>\n",
       "    </tr>\n",
       "  </tbody>\n",
       "</table>\n",
       "</div>"
      ],
      "text/plain": [
       "                    totals.transactionRevenue\n",
       "geoNetwork.country                           \n",
       "United States                   2197885190000\n",
       "Canada                            42699230000\n",
       "Venezuela                         13901260000\n",
       "Japan                              7361500000\n",
       "Australia                          6585640000\n",
       "Kenya                              5268700000\n",
       "Mexico                             3763080000\n",
       "Nigeria                            3302400000\n",
       "Taiwan                             2934200000\n",
       "United Kingdom                     2475040000"
      ]
     },
     "execution_count": 73,
     "metadata": {},
     "output_type": "execute_result"
    }
   ],
   "source": [
    "country.groupby(['geoNetwork.country']).sum().sort_values(by=['totals.transactionRevenue'],ascending=False).head(10)"
   ]
  },
  {
   "cell_type": "code",
   "execution_count": 176,
   "metadata": {},
   "outputs": [
    {
     "data": {
      "image/png": "[encoded data removed]",
      "text/plain": [
       "<Figure size 432x288 with 1 Axes>"
      ]
     },
     "metadata": {
      "needs_background": "light"
     },
     "output_type": "display_data"
    },
    {
     "data": {
      "image/png": "[encoded data removed]",
      "text/plain": [
       "<Figure size 432x288 with 1 Axes>"
      ]
     },
     "metadata": {
      "needs_background": "light"
     },
     "output_type": "display_data"
    },
    {
     "data": {
      "image/png": "[encoded data removed]",
      "text/plain": [
       "<Figure size 432x288 with 1 Axes>"
      ]
     },
     "metadata": {
      "needs_background": "light"
     },
     "output_type": "display_data"
    },
    {
     "data": {
      "image/png": "[encoded data removed]",
      "text/plain": [
       "<Figure size 432x288 with 1 Axes>"
      ]
     },
     "metadata": {
      "needs_background": "light"
     },
     "output_type": "display_data"
    }
   ],
   "source": [
    "#geoNetwork.continent\n",
    "table3 = train.groupby('geoNetwork.continent')['totals.transactionRevenue'].agg(['size','count','mean','std']).sort_values(by='size',ascending=False).head(10)\n",
    "table3['ratio'] = round((table3['count']/table3['size'])*100,2)\n",
    "fig5 = table3[['ratio']].plot.barh().invert_yaxis()\n",
    "fig6 = table3[['mean','std']].plot.barh().invert_yaxis()\n",
    "\n",
    "#geoNetwork.country\n",
    "table4 = train.groupby('geoNetwork.country')['totals.transactionRevenue'].agg(['size','count','mean','std']).sort_values(by='size',ascending=False).head(10)\n",
    "table4['ratio'] = round((table4['count']/table4['size'])*100,2)\n",
    "fig7 = table4[['ratio']].plot.barh().invert_yaxis()\n",
    "fig8 = table4[['mean','std']].plot.barh().invert_yaxis()\n"
   ]
  },
  {
   "cell_type": "markdown",
   "metadata": {},
   "source": [
    "# Behaviours"
   ]
  },
  {
   "cell_type": "markdown",
   "metadata": {},
   "source": [
    "- Hits & pageview\n",
    "\n",
    "By definition, hit and pageviews refer to the requests to google server and the total number of pages viewed respectively.\n",
    "\n",
    "The ratio of non-zero revenue users rise gradually with the increase of both hit and pageview.\n",
    "Also, their mean revenue vary a lot with different no of hit or pageview.\n",
    "Thus, either no of hit or pageview is a good indicator to distinguish and predict revenue.\n",
    "\n",
    "- sessionQualityDim\n",
    "sessionQualityDim is the short form of session quality dimension, it's used to estimate a user’s proximity to conversion. Google Analytics will evaluate each session and score the proximity to conversion in a range from 1 to 100, where 100 means very close to a transaction.\n",
    "\n",
    "Likewise, the ratio of non-zero revenue users rise gradually with the increase of session quality dimension.\n",
    "However, unlike hit and pageview, the mean revenue doesn't vary a lot.\n",
    "Session quality dimension may also be a revenue predictor, but not as good as hit and pageview.\n"
   ]
  },
  {
   "cell_type": "code",
   "execution_count": 127,
   "metadata": {},
   "outputs": [
    {
     "data": {
      "image/png": "[encoded data removed]",
      "text/plain": [
       "<Figure size 432x288 with 1 Axes>"
      ]
     },
     "metadata": {
      "needs_background": "light"
     },
     "output_type": "display_data"
    },
    {
     "data": {
      "image/png": "[encoded data removed]",
      "text/plain": [
       "<Figure size 432x288 with 1 Axes>"
      ]
     },
     "metadata": {
      "needs_background": "light"
     },
     "output_type": "display_data"
    },
    {
     "data": {
      "image/png": "[encoded data removed]",
      "text/plain": [
       "<Figure size 432x288 with 1 Axes>"
      ]
     },
     "metadata": {
      "needs_background": "light"
     },
     "output_type": "display_data"
    },
    {
     "data": {
      "image/png": "[encoded data removed]",
      "text/plain": [
       "<Figure size 432x288 with 1 Axes>"
      ]
     },
     "metadata": {
      "needs_background": "light"
     },
     "output_type": "display_data"
    },
    {
     "data": {
      "image/png": "[encoded data removed]",
      "text/plain": [
       "<Figure size 432x288 with 1 Axes>"
      ]
     },
     "metadata": {
      "needs_background": "light"
     },
     "output_type": "display_data"
    },
    {
     "data": {
      "image/png": "[encoded data removed]",
      "text/plain": [
       "<Figure size 432x288 with 1 Axes>"
      ]
     },
     "metadata": {
      "needs_background": "light"
     },
     "output_type": "display_data"
    },
    {
     "data": {
      "image/png": "[encoded data removed]",
      "text/plain": [
       "<Figure size 432x288 with 1 Axes>"
      ]
     },
     "metadata": {
      "needs_background": "light"
     },
     "output_type": "display_data"
    },
    {
     "data": {
      "image/png": "[encoded data removed]",
      "text/plain": [
       "<Figure size 432x288 with 1 Axes>"
      ]
     },
     "metadata": {
      "needs_background": "light"
     },
     "output_type": "display_data"
    },
    {
     "data": {
      "image/png": "[encoded data removed]",
      "text/plain": [
       "<Figure size 432x288 with 1 Axes>"
      ]
     },
     "metadata": {
      "needs_background": "light"
     },
     "output_type": "display_data"
    },
    {
     "data": {
      "image/png": "[encoded data removed]",
      "text/plain": [
       "<Figure size 432x288 with 1 Axes>"
      ]
     },
     "metadata": {
      "needs_background": "light"
     },
     "output_type": "display_data"
    },
    {
     "data": {
      "image/png": "[encoded data removed]",
      "text/plain": [
       "<Figure size 432x288 with 1 Axes>"
      ]
     },
     "metadata": {
      "needs_background": "light"
     },
     "output_type": "display_data"
    },
    {
     "data": {
      "image/png": "[encoded data removed]",
      "text/plain": [
       "<Figure size 432x288 with 1 Axes>"
      ]
     },
     "metadata": {
      "needs_background": "light"
     },
     "output_type": "display_data"
    }
   ],
   "source": [
    "#totals.hits\n",
    "table5 = train.groupby('totals.hits')['totals.transactionRevenue'].agg(['size','count','mean','std']).sort_values(by='size',ascending=False).head(10)\n",
    "table5['ratio'] = round((table5['count']/table5['size'])*100,2)\n",
    "fig9 = table5[['ratio']].plot.barh().invert_yaxis()\n",
    "fig10 = table5[['mean','std']].plot.barh().invert_yaxis()\n",
    "\n",
    "#totals.pageviews\n",
    "table6 = train.groupby('totals.pageviews')['totals.transactionRevenue'].agg(['size','count','mean','std']).sort_values(by='size',ascending=False).head(10)\n",
    "table6['ratio'] = round((table6['count']/table6['size'])*100,2)\n",
    "fig11 = table6[['ratio']].plot.barh().invert_yaxis()\n",
    "fig12 = table6[['mean','std']].plot.barh().invert_yaxis()\n",
    "\n",
    "#totals.newVisits\n",
    "table8 = train.groupby('totals.newVisits')['totals.transactionRevenue'].agg(['size','count','mean','std']).sort_values(by='size',ascending=False).head(10)\n",
    "table8['ratio'] = round((table8['count']/table8['size'])*100,2)\n",
    "fig15 = table8[['ratio']].plot.barh().invert_yaxis()\n",
    "fig16 = table8[['mean','std']].plot.barh().invert_yaxis()\n",
    "\n",
    "#totals.sessionQualityDim\n",
    "table9 = train.groupby('totals.sessionQualityDim')['totals.transactionRevenue'].agg(['size','count','mean','std']).sort_values(by='size',ascending=False).head(10)\n",
    "table9['ratio'] = round((table9['count']/table9['size'])*100,2)\n",
    "fig17 = table9[['ratio']].plot.barh().invert_yaxis()\n",
    "fig18 = table9[['mean','std']].plot.barh().invert_yaxis()\n",
    "\n",
    "#totals.timeOnSite\n",
    "table10 = train.groupby('totals.timeOnSite')['totals.transactionRevenue'].agg(['size','count','mean','std']).sort_values(by='size',ascending=False).head(10)\n",
    "table10['ratio'] = round((table10['count']/table10['size'])*100,2)\n",
    "fig19 = table10[['ratio']].plot.barh().invert_yaxis()\n",
    "fig20 = table10[['mean','std']].plot.barh().invert_yaxis()"
   ]
  },
  {
   "cell_type": "markdown",
   "metadata": {},
   "source": [
    "# Model"
   ]
  },
  {
   "cell_type": "code",
   "execution_count": 1,
   "metadata": {},
   "outputs": [],
   "source": [
    "import xgboost\n",
    "from sklearn import model_selection\n",
    "from sklearn.metrics import accuracy_score\n",
    "from sklearn.preprocessing import LabelEncoder"
   ]
  },
  {
   "cell_type": "code",
   "execution_count": 243,
   "metadata": {},
   "outputs": [],
   "source": [
    "train_X = train.drop(columns=['totals.transactionRevenue','totals.totalTransactionRevenue'])\n",
    "train_Y = train['totals.transactionRevenue'].fillna(0)"
   ]
  },
  {
   "cell_type": "code",
   "execution_count": 16,
   "metadata": {},
   "outputs": [
    {
     "name": "stdout",
     "output_type": "stream",
     "text": [
      "Index(['channelGrouping', 'customDimensions', 'date', 'fullVisitorId', 'hits',\n",
      "       'visitId', 'visitNumber', 'visitStartTime', 'device.browser',\n",
      "       'device.operatingSystem', 'device.isMobile', 'device.deviceCategory',\n",
      "       'geoNetwork.continent', 'geoNetwork.subContinent', 'geoNetwork.country',\n",
      "       'geoNetwork.region', 'geoNetwork.metro', 'geoNetwork.city',\n",
      "       'geoNetwork.networkDomain', 'totals.hits', 'totals.pageviews',\n",
      "       'totals.bounces', 'totals.newVisits', 'totals.sessionQualityDim',\n",
      "       'totals.timeOnSite', 'totals.transactions',\n",
      "       'totals.totalTransactionRevenue', 'trafficSource.campaign',\n",
      "       'trafficSource.source', 'trafficSource.medium', 'trafficSource.keyword',\n",
      "       'trafficSource.referralPath', 'trafficSource.isTrueDirect',\n",
      "       'trafficSource.adContent', 'trafficSource.adwordsClickInfo.page',\n",
      "       'trafficSource.adwordsClickInfo.slot',\n",
      "       'trafficSource.adwordsClickInfo.gclId',\n",
      "       'trafficSource.adwordsClickInfo.adNetworkType',\n",
      "       'trafficSource.adwordsClickInfo.isVideoAd',\n",
      "       'trafficSource.campaignCode'],\n",
      "      dtype='object')\n"
     ]
    }
   ],
   "source": [
    "for i in [train_X.columns]:\n",
    "    print(i)"
   ]
  },
  {
   "cell_type": "code",
   "execution_count": 245,
   "metadata": {},
   "outputs": [],
   "source": [
    "train_X['totals.bounces'] = train_X['totals.bounces'].fillna(0)"
   ]
  },
  {
   "cell_type": "code",
   "execution_count": 246,
   "metadata": {},
   "outputs": [],
   "source": [
    "train_X['totals.bounces'] = train_X['totals.bounces'].astype(int)"
   ]
  },
  {
   "cell_type": "code",
   "execution_count": 247,
   "metadata": {},
   "outputs": [],
   "source": [
    "#Handling the missing value\n",
    "for i in [train_X.columns]:\n",
    "    train_X[i].fillna(0,inplace=True)"
   ]
  },
  {
   "cell_type": "code",
   "execution_count": 250,
   "metadata": {},
   "outputs": [],
   "source": [
    "train_X = train_X.drop(columns=['customDimensions',\n",
    "                                 'hits'])"
   ]
  },
  {
   "cell_type": "code",
   "execution_count": 337,
   "metadata": {},
   "outputs": [],
   "source": [
    "train_X = train_X.drop(columns=['fullVisitorId','visitStartTime'])"
   ]
  },
  {
   "cell_type": "code",
   "execution_count": 255,
   "metadata": {},
   "outputs": [
    {
     "data": {
      "text/plain": [
       "channelGrouping                                         object\n",
       "date                                            datetime64[ns]\n",
       "fullVisitorId                                           object\n",
       "visitNumber                                              int64\n",
       "visitStartTime                                           int64\n",
       "device.browser                                          object\n",
       "device.operatingSystem                                  object\n",
       "device.isMobile                                           bool\n",
       "device.deviceCategory                                   object\n",
       "geoNetwork.continent                                    object\n",
       "geoNetwork.subContinent                                 object\n",
       "geoNetwork.country                                      object\n",
       "geoNetwork.region                                       object\n",
       "geoNetwork.metro                                        object\n",
       "geoNetwork.city                                         object\n",
       "geoNetwork.networkDomain                                object\n",
       "totals.hits                                             object\n",
       "totals.pageviews                                        object\n",
       "totals.bounces                                           int64\n",
       "totals.newVisits                                        object\n",
       "totals.sessionQualityDim                                object\n",
       "totals.timeOnSite                                       object\n",
       "totals.transactions                                     object\n",
       "trafficSource.campaign                                  object\n",
       "trafficSource.source                                    object\n",
       "trafficSource.medium                                    object\n",
       "trafficSource.keyword                                   object\n",
       "trafficSource.referralPath                              object\n",
       "trafficSource.isTrueDirect                              object\n",
       "trafficSource.adContent                                 object\n",
       "trafficSource.adwordsClickInfo.page                     object\n",
       "trafficSource.adwordsClickInfo.slot                     object\n",
       "trafficSource.adwordsClickInfo.gclId                    object\n",
       "trafficSource.adwordsClickInfo.adNetworkType            object\n",
       "trafficSource.adwordsClickInfo.isVideoAd                object\n",
       "weekday                                                  int64\n",
       "day                                                      int64\n",
       "month                                                    int64\n",
       "year                                                     int64\n",
       "visitHour                                                int64\n",
       "dtype: object"
      ]
     },
     "execution_count": 255,
     "metadata": {},
     "output_type": "execute_result"
    }
   ],
   "source": [
    "#before change to numeric\n",
    "train_X.dtypes"
   ]
  },
  {
   "cell_type": "code",
   "execution_count": 106,
   "metadata": {},
   "outputs": [],
   "source": [
    "numeric_col = ['totals.hits', \n",
    "               'totals.pageviews',\n",
    "               'totals.bounces',\n",
    "               'totals.newVisits',\n",
    "               'totals.sessionQualityDim',\n",
    "               'totals.timeOnSite',\n",
    "               'totals.transactions']"
   ]
  },
  {
   "cell_type": "code",
   "execution_count": 256,
   "metadata": {},
   "outputs": [],
   "source": [
    "for i in range(len(numeric_col)):\n",
    "    train_X[numeric_col[i]] = pd.to_numeric(train_X[numeric_col[i]], errors='ignore', downcast='signed')"
   ]
  },
  {
   "cell_type": "code",
   "execution_count": 257,
   "metadata": {},
   "outputs": [
    {
     "data": {
      "text/plain": [
       "channelGrouping                                         object\n",
       "date                                            datetime64[ns]\n",
       "fullVisitorId                                           object\n",
       "visitNumber                                              int64\n",
       "visitStartTime                                           int64\n",
       "device.browser                                          object\n",
       "device.operatingSystem                                  object\n",
       "device.isMobile                                           bool\n",
       "device.deviceCategory                                   object\n",
       "geoNetwork.continent                                    object\n",
       "geoNetwork.subContinent                                 object\n",
       "geoNetwork.country                                      object\n",
       "geoNetwork.region                                       object\n",
       "geoNetwork.metro                                        object\n",
       "geoNetwork.city                                         object\n",
       "geoNetwork.networkDomain                                object\n",
       "totals.hits                                              int16\n",
       "totals.pageviews                                       float64\n",
       "totals.bounces                                            int8\n",
       "totals.newVisits                                       float64\n",
       "totals.sessionQualityDim                               float64\n",
       "totals.timeOnSite                                      float64\n",
       "totals.transactions                                    float64\n",
       "trafficSource.campaign                                  object\n",
       "trafficSource.source                                    object\n",
       "trafficSource.medium                                    object\n",
       "trafficSource.keyword                                   object\n",
       "trafficSource.referralPath                              object\n",
       "trafficSource.isTrueDirect                              object\n",
       "trafficSource.adContent                                 object\n",
       "trafficSource.adwordsClickInfo.page                     object\n",
       "trafficSource.adwordsClickInfo.slot                     object\n",
       "trafficSource.adwordsClickInfo.gclId                    object\n",
       "trafficSource.adwordsClickInfo.adNetworkType            object\n",
       "trafficSource.adwordsClickInfo.isVideoAd                object\n",
       "weekday                                                  int64\n",
       "day                                                      int64\n",
       "month                                                    int64\n",
       "year                                                     int64\n",
       "visitHour                                                int64\n",
       "dtype: object"
      ]
     },
     "execution_count": 257,
     "metadata": {},
     "output_type": "execute_result"
    }
   ],
   "source": [
    "#after change to numeric\n",
    "train_X.dtypes"
   ]
  },
  {
   "cell_type": "code",
   "execution_count": 258,
   "metadata": {},
   "outputs": [],
   "source": [
    "category_columns = list(train_X.dtypes[train_X.dtypes == 'object'].reset_index()['index'])\n",
    "numeric_columns = ['visitNumber',\n",
    "                    'totals.hits', \n",
    "                   'totals.pageviews',\n",
    "                   'totals.bounces',\n",
    "                   'totals.newVisits',\n",
    "                   'totals.sessionQualityDim',\n",
    "                   'totals.timeOnSite',\n",
    "                   'totals.transactions',\n",
    "                  'weekday',\n",
    "                  'day',\n",
    "                  'month',\n",
    "                  'year',\n",
    "                  'visitHour']\n",
    "\n",
    "for col in category_columns:\n",
    "    train_X[col] = LabelEncoder().fit_transform(train_X[col].astype(str))\n",
    "\n",
    "X = train_X[category_columns + numeric_columns]"
   ]
  },
  {
   "cell_type": "code",
   "execution_count": 22,
   "metadata": {},
   "outputs": [],
   "source": [
    "from sklearn.model_selection import train_test_split"
   ]
  },
  {
   "cell_type": "code",
   "execution_count": 343,
   "metadata": {},
   "outputs": [],
   "source": [
    "X_train, X_val, y_train, y_val = train_test_split(X, train_Y, test_size=0.3, random_state=46)"
   ]
  },
  {
   "cell_type": "code",
   "execution_count": 113,
   "metadata": {},
   "outputs": [],
   "source": [
    "import time"
   ]
  },
  {
   "cell_type": "code",
   "execution_count": 115,
   "metadata": {},
   "outputs": [],
   "source": [
    "import xgboost as xgb"
   ]
  },
  {
   "cell_type": "code",
   "execution_count": 345,
   "metadata": {},
   "outputs": [],
   "source": [
    "y_train = y_train.astype(int)"
   ]
  },
  {
   "cell_type": "code",
   "execution_count": 346,
   "metadata": {},
   "outputs": [],
   "source": [
    "#using DMatrix to run xgboost model is faster than using XGBClassifier under sklearn\n",
    "xgtrain = xgb.DMatrix(X_train, label=y_train)"
   ]
  },
  {
   "cell_type": "code",
   "execution_count": 339,
   "metadata": {},
   "outputs": [],
   "source": [
    "#hyperparameter tuning\n",
    "param = {'eta':0.03, 'gamma':1, 'lambda':1, 'max_depth' : 16}\n",
    "num_round = 300"
   ]
  },
  {
   "cell_type": "code",
   "execution_count": 347,
   "metadata": {},
   "outputs": [
    {
     "name": "stdout",
     "output_type": "stream",
     "text": [
      "Runtime of the program is 412.1298267841339\n"
     ]
    }
   ],
   "source": [
    "#param = {'eta':0.03, 'gamma':1, 'lambda':1, 'max_depth' : 16},  num_round=300\n",
    "start = time.time()\n",
    "m = xgb.train(param, xgtrain, num_round)\n",
    "end = time.time()\n",
    "print(\"Runtime of the program is {}\".format(end - start))"
   ]
  },
  {
   "cell_type": "code",
   "execution_count": 348,
   "metadata": {},
   "outputs": [],
   "source": [
    "xg_val = xgb.DMatrix(X_val)\n",
    "y_val_pred = m.predict(xg_val)"
   ]
  },
  {
   "cell_type": "code",
   "execution_count": 266,
   "metadata": {},
   "outputs": [
    {
     "data": {
      "text/plain": [
       "1177251    0\n",
       "1294587    0\n",
       "1439827    0\n",
       "1634741    0\n",
       "284042     0\n",
       "          ..\n",
       "1618044    0\n",
       "869034     0\n",
       "874941     0\n",
       "88861      0\n",
       "1440398    0\n",
       "Name: totals.transactionRevenue, Length: 512502, dtype: object"
      ]
     },
     "execution_count": 266,
     "metadata": {},
     "output_type": "execute_result"
    }
   ],
   "source": [
    "y_val"
   ]
  },
  {
   "cell_type": "code",
   "execution_count": 267,
   "metadata": {},
   "outputs": [
    {
     "data": {
      "text/plain": [
       "array([5.376339e-05, 5.376339e-05, 5.376339e-05, ..., 5.376339e-05,\n",
       "       5.376339e-05, 5.376339e-05], dtype=float32)"
      ]
     },
     "execution_count": 267,
     "metadata": {},
     "output_type": "execute_result"
    }
   ],
   "source": [
    "y_val_pred"
   ]
  },
  {
   "cell_type": "markdown",
   "metadata": {},
   "source": [
    "# Test"
   ]
  },
  {
   "cell_type": "code",
   "execution_count": 211,
   "metadata": {},
   "outputs": [],
   "source": [
    "test = test.drop(columns=['socialEngagementType',\n",
    "                            'device.browserVersion',\n",
    "                            'device.browserSize',\n",
    "                            'device.operatingSystemVersion',\n",
    "                            'device.mobileDeviceBranding',\n",
    "                            'device.mobileDeviceModel',\n",
    "                            'device.mobileInputSelector',\n",
    "                            'device.mobileDeviceInfo',\n",
    "                            'device.mobileDeviceMarketingName',\n",
    "                            'device.flashVersion',\n",
    "                            'device.language',\n",
    "                            'device.screenColors',\n",
    "                            'device.screenResolution',\n",
    "                            'geoNetwork.cityId',\n",
    "                            'geoNetwork.latitude',\n",
    "                            'geoNetwork.longitude',\n",
    "                            'geoNetwork.networkLocation',\n",
    "                            'totals.visits',\n",
    "                            'trafficSource.adwordsClickInfo.criteriaParameters'])"
   ]
  },
  {
   "cell_type": "code",
   "execution_count": 216,
   "metadata": {},
   "outputs": [],
   "source": [
    "test['date'] = pd.to_datetime(test['date'], format='%Y%m%d')"
   ]
  },
  {
   "cell_type": "code",
   "execution_count": 217,
   "metadata": {},
   "outputs": [],
   "source": [
    "test[\"weekday\"] = test['date'].dt.weekday #extracting week day\n",
    "test[\"day\"] = test['date'].dt.day # extracting day\n",
    "test[\"month\"] = test['date'].dt.month # extracting day\n",
    "test[\"year\"] = test['date'].dt.year # extracting day\n",
    "test['visitHour'] = (test['visitStartTime'].apply(lambda x: str(datetime.fromtimestamp(x).hour))).astype(int)"
   ]
  },
  {
   "cell_type": "code",
   "execution_count": 293,
   "metadata": {},
   "outputs": [
    {
     "data": {
      "text/plain": [
       "channelGrouping                                          int64\n",
       "customDimensions                                         int64\n",
       "date                                            datetime64[ns]\n",
       "fullVisitorId                                            int64\n",
       "hits                                                     int64\n",
       "visitId                                                  int64\n",
       "visitNumber                                              int64\n",
       "device.browser                                           int64\n",
       "device.operatingSystem                                   int64\n",
       "device.isMobile                                           bool\n",
       "device.deviceCategory                                    int64\n",
       "geoNetwork.continent                                     int64\n",
       "geoNetwork.subContinent                                  int64\n",
       "geoNetwork.country                                       int64\n",
       "geoNetwork.region                                        int64\n",
       "geoNetwork.metro                                         int64\n",
       "geoNetwork.city                                          int64\n",
       "geoNetwork.networkDomain                                 int64\n",
       "totals.hits                                              int16\n",
       "totals.pageviews                                       float64\n",
       "totals.timeOnSite                                      float64\n",
       "totals.sessionQualityDim                                  int8\n",
       "totals.newVisits                                       float64\n",
       "totals.transactions                                    float64\n",
       "totals.bounces                                         float64\n",
       "trafficSource.referralPath                               int64\n",
       "trafficSource.campaign                                   int64\n",
       "trafficSource.source                                     int64\n",
       "trafficSource.medium                                     int64\n",
       "trafficSource.keyword                                    int64\n",
       "trafficSource.adContent                                  int64\n",
       "trafficSource.isTrueDirect                               int64\n",
       "trafficSource.adwordsClickInfo.page                      int64\n",
       "trafficSource.adwordsClickInfo.slot                      int64\n",
       "trafficSource.adwordsClickInfo.gclId                     int64\n",
       "trafficSource.adwordsClickInfo.adNetworkType             int64\n",
       "trafficSource.adwordsClickInfo.isVideoAd                 int64\n",
       "weekday                                                  int64\n",
       "day                                                      int64\n",
       "month                                                    int64\n",
       "year                                                     int64\n",
       "visitHour                                                int64\n",
       "dtype: object"
      ]
     },
     "execution_count": 293,
     "metadata": {},
     "output_type": "execute_result"
    }
   ],
   "source": [
    "test.dtypes"
   ]
  },
  {
   "cell_type": "code",
   "execution_count": null,
   "metadata": {},
   "outputs": [],
   "source": [
    "numeric_col = ['totals.hits', \n",
    "               'totals.pageviews',\n",
    "               'totals.bounces',\n",
    "               'totals.newVisits',\n",
    "               'totals.sessionQualityDim',\n",
    "               'totals.timeOnSite',\n",
    "               'totals.transactions']"
   ]
  },
  {
   "cell_type": "code",
   "execution_count": 221,
   "metadata": {},
   "outputs": [],
   "source": [
    "for i in range(len(numeric_col)):\n",
    "    test[numeric_col[i]] = pd.to_numeric(test[numeric_col[i]], errors='ignore', downcast='integer')"
   ]
  },
  {
   "cell_type": "code",
   "execution_count": 225,
   "metadata": {},
   "outputs": [],
   "source": [
    "test = test.drop(columns=['totals.transactionRevenue',\n",
    "                            'totals.totalTransactionRevenue'])"
   ]
  },
  {
   "cell_type": "code",
   "execution_count": 229,
   "metadata": {},
   "outputs": [],
   "source": [
    "test = test.drop(columns=['visitStartTime'])"
   ]
  },
  {
   "cell_type": "code",
   "execution_count": 231,
   "metadata": {},
   "outputs": [],
   "source": [
    "test_category_columns = list(test.dtypes[test.dtypes == 'object'].reset_index()['index'])\n",
    "test_numeric_columns = ['visitId',\n",
    "                   'visitNumber',\n",
    "                    'totals.hits', \n",
    "                   'totals.pageviews',\n",
    "                   'totals.bounces',\n",
    "                   'totals.newVisits',\n",
    "                   'totals.sessionQualityDim',\n",
    "                   'totals.timeOnSite',\n",
    "                   'totals.transactions',\n",
    "                  'weekday',\n",
    "                  'day',\n",
    "                  'month',\n",
    "                  'year',\n",
    "                  'visitHour']\n",
    "\n",
    "for col in test_category_columns:\n",
    "    test[col] = LabelEncoder().fit_transform(test[col].astype(str))\n",
    "\n",
    "test_X = test[test_category_columns + test_numeric_columns]"
   ]
  },
  {
   "cell_type": "code",
   "execution_count": 272,
   "metadata": {},
   "outputs": [],
   "source": [
    "test_X = test_X.drop(columns=['customDimensions',\n",
    "                            'hits',\n",
    "                            'visitId'])"
   ]
  },
  {
   "cell_type": "code",
   "execution_count": 277,
   "metadata": {},
   "outputs": [
    {
     "data": {
      "text/plain": [
       "channelGrouping                                   int64\n",
       "fullVisitorId                                     int64\n",
       "device.browser                                    int64\n",
       "device.operatingSystem                            int64\n",
       "device.deviceCategory                             int64\n",
       "geoNetwork.continent                              int64\n",
       "geoNetwork.subContinent                           int64\n",
       "geoNetwork.country                                int64\n",
       "geoNetwork.region                                 int64\n",
       "geoNetwork.metro                                  int64\n",
       "geoNetwork.city                                   int64\n",
       "geoNetwork.networkDomain                          int64\n",
       "trafficSource.referralPath                        int64\n",
       "trafficSource.campaign                            int64\n",
       "trafficSource.source                              int64\n",
       "trafficSource.medium                              int64\n",
       "trafficSource.keyword                             int64\n",
       "trafficSource.adContent                           int64\n",
       "trafficSource.isTrueDirect                        int64\n",
       "trafficSource.adwordsClickInfo.page               int64\n",
       "trafficSource.adwordsClickInfo.slot               int64\n",
       "trafficSource.adwordsClickInfo.gclId              int64\n",
       "trafficSource.adwordsClickInfo.adNetworkType      int64\n",
       "trafficSource.adwordsClickInfo.isVideoAd          int64\n",
       "visitNumber                                       int64\n",
       "totals.hits                                       int16\n",
       "totals.pageviews                                float64\n",
       "totals.bounces                                  float64\n",
       "totals.newVisits                                float64\n",
       "totals.sessionQualityDim                           int8\n",
       "totals.timeOnSite                               float64\n",
       "totals.transactions                             float64\n",
       "weekday                                           int64\n",
       "day                                               int64\n",
       "month                                             int64\n",
       "year                                              int64\n",
       "visitHour                                         int64\n",
       "dtype: object"
      ]
     },
     "execution_count": 277,
     "metadata": {},
     "output_type": "execute_result"
    }
   ],
   "source": [
    "test_X.dtypes"
   ]
  },
  {
   "cell_type": "code",
   "execution_count": 276,
   "metadata": {},
   "outputs": [
    {
     "data": {
      "text/html": [
       "<div>\n",
       "<style scoped>\n",
       "    .dataframe tbody tr th:only-of-type {\n",
       "        vertical-align: middle;\n",
       "    }\n",
       "\n",
       "    .dataframe tbody tr th {\n",
       "        vertical-align: top;\n",
       "    }\n",
       "\n",
       "    .dataframe thead th {\n",
       "        text-align: right;\n",
       "    }\n",
       "</style>\n",
       "<table border=\"1\" class=\"dataframe\">\n",
       "  <thead>\n",
       "    <tr style=\"text-align: right;\">\n",
       "      <th></th>\n",
       "      <th>channelGrouping</th>\n",
       "      <th>fullVisitorId</th>\n",
       "      <th>device.browser</th>\n",
       "      <th>device.operatingSystem</th>\n",
       "      <th>device.deviceCategory</th>\n",
       "      <th>geoNetwork.continent</th>\n",
       "      <th>geoNetwork.subContinent</th>\n",
       "      <th>geoNetwork.country</th>\n",
       "      <th>geoNetwork.region</th>\n",
       "      <th>geoNetwork.metro</th>\n",
       "      <th>...</th>\n",
       "      <th>totals.bounces</th>\n",
       "      <th>totals.newVisits</th>\n",
       "      <th>totals.sessionQualityDim</th>\n",
       "      <th>totals.timeOnSite</th>\n",
       "      <th>totals.transactions</th>\n",
       "      <th>weekday</th>\n",
       "      <th>day</th>\n",
       "      <th>month</th>\n",
       "      <th>year</th>\n",
       "      <th>visitHour</th>\n",
       "    </tr>\n",
       "  </thead>\n",
       "  <tbody>\n",
       "    <tr>\n",
       "      <th>1177251</th>\n",
       "      <td>7</td>\n",
       "      <td>681543</td>\n",
       "      <td>35</td>\n",
       "      <td>20</td>\n",
       "      <td>0</td>\n",
       "      <td>2</td>\n",
       "      <td>15</td>\n",
       "      <td>28</td>\n",
       "      <td>482</td>\n",
       "      <td>122</td>\n",
       "      <td>...</td>\n",
       "      <td>1</td>\n",
       "      <td>1.0</td>\n",
       "      <td>NaN</td>\n",
       "      <td>NaN</td>\n",
       "      <td>NaN</td>\n",
       "      <td>0</td>\n",
       "      <td>23</td>\n",
       "      <td>1</td>\n",
       "      <td>2017</td>\n",
       "      <td>11</td>\n",
       "    </tr>\n",
       "  </tbody>\n",
       "</table>\n",
       "<p>1 rows × 37 columns</p>\n",
       "</div>"
      ],
      "text/plain": [
       "         channelGrouping  fullVisitorId  device.browser  \\\n",
       "1177251                7         681543              35   \n",
       "\n",
       "         device.operatingSystem  device.deviceCategory  geoNetwork.continent  \\\n",
       "1177251                      20                      0                     2   \n",
       "\n",
       "         geoNetwork.subContinent  geoNetwork.country  geoNetwork.region  \\\n",
       "1177251                       15                  28                482   \n",
       "\n",
       "         geoNetwork.metro  ...  totals.bounces  totals.newVisits  \\\n",
       "1177251               122  ...               1               1.0   \n",
       "\n",
       "         totals.sessionQualityDim  totals.timeOnSite  totals.transactions  \\\n",
       "1177251                       NaN                NaN                  NaN   \n",
       "\n",
       "         weekday  day  month  year  visitHour  \n",
       "1177251        0   23      1  2017         11  \n",
       "\n",
       "[1 rows x 37 columns]"
      ]
     },
     "execution_count": 276,
     "metadata": {},
     "output_type": "execute_result"
    }
   ],
   "source": [
    "X_val.head(1)"
   ]
  },
  {
   "cell_type": "code",
   "execution_count": 351,
   "metadata": {},
   "outputs": [],
   "source": [
    "test_X = test_X.drop(columns=['fullVisitorId'])"
   ]
  },
  {
   "cell_type": "code",
   "execution_count": 352,
   "metadata": {},
   "outputs": [],
   "source": [
    "xg_test = xgb.DMatrix(test_X[X_train.columns])\n",
    "y_test_pred = m.predict(xg_test)"
   ]
  },
  {
   "cell_type": "code",
   "execution_count": 374,
   "metadata": {},
   "outputs": [],
   "source": [
    "submission = test['fullVisitorId']"
   ]
  },
  {
   "cell_type": "code",
   "execution_count": 364,
   "metadata": {},
   "outputs": [
    {
     "data": {
      "text/plain": [
       "array([5.3703785e-05, 5.3703785e-05, 5.3703785e-05, ..., 5.3703785e-05,\n",
       "       5.3703785e-05, 5.3703785e-05], dtype=float32)"
      ]
     },
     "execution_count": 364,
     "metadata": {},
     "output_type": "execute_result"
    }
   ],
   "source": [
    "y_test_pred"
   ]
  },
  {
   "cell_type": "code",
   "execution_count": 376,
   "metadata": {},
   "outputs": [],
   "source": [
    "submission = pd.concat([submission, pd.DataFrame(y_test_pred)], axis=1)"
   ]
  },
  {
   "cell_type": "code",
   "execution_count": 378,
   "metadata": {},
   "outputs": [],
   "source": [
    "submission = submission.rename(columns={0:'PredictedLogRevenue'})"
   ]
  },
  {
   "cell_type": "code",
   "execution_count": 379,
   "metadata": {},
   "outputs": [],
   "source": [
    "submission.loc[submission['PredictedLogRevenue']<0] = 0"
   ]
  },
  {
   "cell_type": "code",
   "execution_count": 381,
   "metadata": {},
   "outputs": [],
   "source": [
    "submission = submission.groupby(\"fullVisitorId\")[\"PredictedLogRevenue\"].sum().reset_index()"
   ]
  },
  {
   "cell_type": "code",
   "execution_count": 369,
   "metadata": {},
   "outputs": [],
   "source": [
    "submission[\"PredictedLogRevenue\"] = np.log1p(submission[\"PredictedLogRevenue\"])"
   ]
  },
  {
   "cell_type": "code",
   "execution_count": 360,
   "metadata": {},
   "outputs": [],
   "source": [
    "submission.to_csv('GA_revenue_prediction.csv', index=False)"
   ]
  },
  {
   "cell_type": "code",
   "execution_count": 382,
   "metadata": {},
   "outputs": [
    {
     "data": {
      "text/html": [
       "<div>\n",
       "<style scoped>\n",
       "    .dataframe tbody tr th:only-of-type {\n",
       "        vertical-align: middle;\n",
       "    }\n",
       "\n",
       "    .dataframe tbody tr th {\n",
       "        vertical-align: top;\n",
       "    }\n",
       "\n",
       "    .dataframe thead th {\n",
       "        text-align: right;\n",
       "    }\n",
       "</style>\n",
       "<table border=\"1\" class=\"dataframe\">\n",
       "  <thead>\n",
       "    <tr style=\"text-align: right;\">\n",
       "      <th></th>\n",
       "      <th>fullVisitorId</th>\n",
       "      <th>PredictedLogRevenue</th>\n",
       "    </tr>\n",
       "  </thead>\n",
       "  <tbody>\n",
       "    <tr>\n",
       "      <th>0</th>\n",
       "      <td>0</td>\n",
       "      <td>0.000000</td>\n",
       "    </tr>\n",
       "    <tr>\n",
       "      <th>1</th>\n",
       "      <td>0000018966949534117</td>\n",
       "      <td>0.000054</td>\n",
       "    </tr>\n",
       "    <tr>\n",
       "      <th>2</th>\n",
       "      <td>0000039738481224681</td>\n",
       "      <td>0.000054</td>\n",
       "    </tr>\n",
       "    <tr>\n",
       "      <th>3</th>\n",
       "      <td>0000073585230191399</td>\n",
       "      <td>0.000054</td>\n",
       "    </tr>\n",
       "    <tr>\n",
       "      <th>4</th>\n",
       "      <td>0000087588448856385</td>\n",
       "      <td>0.000054</td>\n",
       "    </tr>\n",
       "    <tr>\n",
       "      <th>...</th>\n",
       "      <td>...</td>\n",
       "      <td>...</td>\n",
       "    </tr>\n",
       "    <tr>\n",
       "      <th>296523</th>\n",
       "      <td>9999862054614696520</td>\n",
       "      <td>0.000054</td>\n",
       "    </tr>\n",
       "    <tr>\n",
       "      <th>296524</th>\n",
       "      <td>9999898168621645223</td>\n",
       "      <td>0.000054</td>\n",
       "    </tr>\n",
       "    <tr>\n",
       "      <th>296525</th>\n",
       "      <td>999990167740728398</td>\n",
       "      <td>0.000054</td>\n",
       "    </tr>\n",
       "    <tr>\n",
       "      <th>296526</th>\n",
       "      <td>9999915620249883537</td>\n",
       "      <td>0.000054</td>\n",
       "    </tr>\n",
       "    <tr>\n",
       "      <th>296527</th>\n",
       "      <td>9999947552481876143</td>\n",
       "      <td>0.000054</td>\n",
       "    </tr>\n",
       "  </tbody>\n",
       "</table>\n",
       "<p>296528 rows × 2 columns</p>\n",
       "</div>"
      ],
      "text/plain": [
       "              fullVisitorId  PredictedLogRevenue\n",
       "0                         0             0.000000\n",
       "1       0000018966949534117             0.000054\n",
       "2       0000039738481224681             0.000054\n",
       "3       0000073585230191399             0.000054\n",
       "4       0000087588448856385             0.000054\n",
       "...                     ...                  ...\n",
       "296523  9999862054614696520             0.000054\n",
       "296524  9999898168621645223             0.000054\n",
       "296525   999990167740728398             0.000054\n",
       "296526  9999915620249883537             0.000054\n",
       "296527  9999947552481876143             0.000054\n",
       "\n",
       "[296528 rows x 2 columns]"
      ]
     },
     "execution_count": 382,
     "metadata": {},
     "output_type": "execute_result"
    }
   ],
   "source": [
    "submission"
   ]
  }
 ],
 "metadata": {
  "kernelspec": {
   "display_name": "Python 3",
   "language": "python",
   "name": "python3"
  },
  "language_info": {
   "codemirror_mode": {
    "name": "ipython",
    "version": 3
   },
   "file_extension": ".py",
   "mimetype": "text/x-python",
   "name": "python",
   "nbconvert_exporter": "python",
   "pygments_lexer": "ipython3",
   "version": "3.8.3"
  }
 },
 "nbformat": 4,
 "nbformat_minor": 5
}
